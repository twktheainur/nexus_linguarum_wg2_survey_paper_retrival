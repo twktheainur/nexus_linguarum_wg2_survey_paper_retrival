{
 "cells": [
  {
   "cell_type": "code",
   "execution_count": 3,
   "id": "cd59996c",
   "metadata": {
    "tags": []
   },
   "outputs": [
    {
     "name": "stdout",
     "output_type": "stream",
     "text": [
      "Now loading the dictionary...\n",
      "Now indexing the dictionary...\n"
     ]
    },
    {
     "name": "stderr",
     "output_type": "stream",
     "text": [
      "100%|█████████████████████████████████████████████████████████████████████████████████| 19/19 [00:00<00:00, 113.76it/s]\n"
     ]
    }
   ],
   "source": [
    "#!pip install git+https://github.com/twktheainur/pyclinrec.git --no-cache\n",
    "#!curl https://raw.githubusercontent.com/twktheainur/pyclinrec/master/pyclinrec/stopwordsen.txt -o stopwordsen.txt\n",
    "#!curl https://raw.githubusercontent.com/twktheainur/pyclinrec/master/pyclinrec/termination_termsen.txt -o termination_termsen.txt\n",
    "\n",
    "import pyclinrec\n",
    "from pyclinrec.dictionary import StringDictionaryLoader\n",
    "\n",
    "dictionary=[\n",
    "    ('ld', 'Linked Data'),\n",
    "    ('lod', 'Linked Open Data'),\n",
    "    ('lod', 'LOD'),\n",
    "    ('llod', 'Linguistic Linked Open Data'),\n",
    "    ('llod', 'LLOD'),\n",
    "    ('kg', 'Knowledge Graph'),\n",
    "    ('kg', 'Knowledge Base'),\n",
    "    ('skos', 'SKOS'),\n",
    "    ('rdf', 'Resource Description Framework'),\n",
    "    ('rdf', 'RDF'),\n",
    "    ('ke','Knowledge Extraction'), \n",
    "    ('sw', 'Semantic Web'),\n",
    "    ('onto', 'Web Ontology Language'),\n",
    "    ('onto', 'OWL'),\n",
    "    ('onto', 'Ontology'),\n",
    "    ('hlt', 'Human Language Technology'),\n",
    "    ('ie', 'Information Extraction'),\n",
    "    ('ke', 'Knowledge Extraction'),\n",
    "    ('mt', 'Machine Translation'),\n",
    "    ('nle', 'Natural Language Engineering'),\n",
    "    ('nlg', 'Natural Language Generation'),\n",
    "    ('nlg', 'NLG'),\n",
    "    ('nll', 'Natural Language Learning'),\n",
    "    ('nll', 'NLL'),\n",
    "    ('nlp', 'Natural Language Processing'),\n",
    "    ('nlp', 'NLP'),\n",
    "    ('nlu', 'Natural Language Understanding'),\n",
    "    ('nlu', 'NLU'),\n",
    "    ('tp', 'Text Processing'),\n",
    "    ('wsd', 'Word Sense Disambiguation'),\n",
    "    ('wsd', 'WSD')\n",
    "]\n",
    "\n",
    "nlp_concepts = {'hlt', 'ie', 'ke', 'mt', 'nle', 'nlg', 'nll', 'nlp', 'nlu', 'tp', 'wsd'}\n",
    "ld_concepts = {'ld', 'lod', 'llod', 'kg', 'skos', 'rdf', 'ke', 'sw', 'onto'}\n",
    "\n",
    "loader = StringDictionaryLoader(dictionary)\n",
    "\n",
    "from pyclinrec.recognizer import IntersStemConceptRecognizer\n",
    "\n",
    "\n",
    "recognizer = IntersStemConceptRecognizer(dictionary_loader=loader,\n",
    "                                         stop_words_file=\"stopwordsen.txt\",                                 \n",
    "                                         termination_terms_file=\"termination_termsen.txt\")\n",
    "recognizer.initialize()\n"
   ]
  },
  {
   "cell_type": "code",
   "execution_count": 111,
   "id": "ee424494-bb26-4b30-ad34-4b1c524740ae",
   "metadata": {},
   "outputs": [],
   "source": [
    "import pathlib\n",
    "from tqdm.notebook import tqdm\n",
    "import json\n",
    "import math\n",
    "\n",
    "def save_selection(paper_dictionary, threshold):\n",
    "    from matplotlib import pyplot as plt\n",
    "    \n",
    "    selection_as_list = list(paper_dictionary.values())\n",
    "    selection_as_list = sorted(selection_as_list, key=lambda x: x['relevance_score'], reverse=True)\n",
    "    scores = np.array([paper['relevance_score'] for paper in selection_as_list])\n",
    "    \n",
    "    fig, ax = plt.subplots(figsize =(10, 7))\n",
    "    ax.hist(scores, bins =50)\n",
    "    ax.axvline(x=threshold)\n",
    "    \n",
    "    selection_as_list = [paper for paper in selection_as_list if paper['relevance_score']>threshold]\n",
    "    print(f\"Selected {len(selection_as_list)} papers with threshold {threshold}\")\n",
    "    with open(f\"final_selection_t{threshold}.json\", \"w\") as j:\n",
    "        json.dump(selection_as_list, j)\n",
    "    return selection_as_list, fig\n",
    "\n",
    " \n",
    "\n",
    "def compute_revelance_score(ld_mention_counts, nlp_mention_counts, alpha=0.5, beta=2):\n",
    "    sum_nlp = 0.0\n",
    "    sum_ld = 0.0\n",
    "\n",
    "    for mention in ld_mention_counts:\n",
    "        sum_ld += ld_mention_counts[mention]\n",
    "        \n",
    "    for mention in nlp_mention_counts:\n",
    "        sum_nlp += nlp_mention_counts[mention]\n",
    "        \n",
    "    sum_total = sum_nlp + sum_ld\n",
    "    score_nlp = sum_nlp / sum_total\n",
    "    score_ld = sum_ld / sum_total\n",
    "    frequency_weight = 1.0 / (1.0 + math.exp(-1*alpha*sum_total + beta))\n",
    "    return (1-abs(score_ld - score_nlp)) * frequency_weight\n",
    "\n",
    "def filter_papers(papers, keywords):\n",
    "    result = []\n",
    "    \n",
    "    for paper in tqdm(papers, desc=f\"Filtering papers from {keywords}\"):\n",
    "            if paper['fieldsOfStudy'] is None or \"Computer Science\" not in paper['fieldsOfStudy']:\n",
    "                continue\n",
    "            if len(paper['venue'])==0 or 'Software Engineering' in paper['venue'] or \\\n",
    "            'Tissue engineering' in paper['venue'] or 'Biomechanical Engineering' in paper['venue'] or \\\n",
    "            'Nature Protocols' in paper['venue']:\n",
    "                continue\n",
    "            if len(paper['title'])==0 or 'Proceedings' in paper['title']:\n",
    "                continue\n",
    "                \n",
    "            title = paper.get('title', ' ')\n",
    "            abstract = paper.get('abstract', ' ')\n",
    "            \n",
    "            if title is None:\n",
    "                title = \"\"\n",
    "            if abstract is None:\n",
    "                abstract = \"\"\n",
    "\n",
    "            mentions = recognizer.match_mentions(title+\" \"+abstract)\n",
    "            paper['mentions']= [m.concept_id for m in mentions[2]]\n",
    "            \n",
    "            if len(paper['mentions']) == 0:\n",
    "                continue\n",
    "                \n",
    "            paper_mentions = paper['mentions']\n",
    "            nlp_mentions = [mention for mention in paper_mentions if mention in nlp_concepts]\n",
    "            ld_mentions = [mention for mention in paper_mentions if mention in ld_concepts]\n",
    "            \n",
    "            mention_counts = dict( (l, paper_mentions.count(l) ) for l in set(paper_mentions))\n",
    "            nlp_mention_counts = dict( (l, nlp_mentions.count(l) ) for l in set(nlp_mentions))\n",
    "            ld_mention_counts = dict( (l, ld_mentions.count(l) ) for l in set(ld_mentions))\n",
    "            \n",
    "            if len(nlp_mention_counts) == 0 or len(ld_mention_counts) == 0:\n",
    "                continue\n",
    "            \n",
    "            paper['mention_counts'] = mention_counts\n",
    "            paper['nlp_mention_counts'] = nlp_mention_counts\n",
    "            paper['ld_mention_counts'] = ld_mention_counts\n",
    "            \n",
    "            if len(paper['ld_mention_counts'])==1 and list(paper['ld_mention_counts'].keys())[0]==\"kg\":\n",
    "                continue\n",
    "            \n",
    "            paper['relevance_score'] = compute_revelance_score(ld_mention_counts, nlp_mention_counts)\n",
    "            \n",
    "            \n",
    "            # print(\"R=\",paper['relevance_score'],\" | NLP=\" , nlp_mention_counts, \"| LD=\",ld_mention_counts)\n",
    "\n",
    "            result.append(paper)\n",
    "    print(f\"Selected {len(result)} papers\")\n",
    "    return result"
   ]
  },
  {
   "cell_type": "code",
   "execution_count": null,
   "id": "c529b925-5433-4c38-816f-5e951e7cdc8c",
   "metadata": {
    "tags": []
   },
   "outputs": [],
   "source": [
    "indexed_papers = {}\n",
    "\n",
    "\n",
    "\n",
    "d = pathlib.Path(\"./extracts\")\n",
    "for file in tqdm(d.iterdir()):\n",
    "    if not file.is_dir() and file.suffix == \".json\":\n",
    "        name = file.stem.replace(\"_\", \" \").split(\"@\")[1].split(\",\")\n",
    "        domain = name[0]\n",
    "        kw_1 = name[0]\n",
    "        kw_2 = name[1]\n",
    "        with open(file, \"r\") as jsf:\n",
    "            papers = json.load(jsf)\n",
    "            if papers is not None:\n",
    "                kw_paper_dict = filter_papers(papers, \", \".join([kw_1, kw_2]))\n",
    "                if (kw_1, kw_2) not in indexed_papers:\n",
    "                    indexed_papers[(kw_1, kw_2)]= kw_paper_dict\n",
    "\n",
    "            \n",
    "final_selection=dict()\n",
    "for kw_tuple_key in tqdm(indexed_papers):\n",
    "    papers = indexed_papers[kw_tuple_key]\n",
    "    final_selection |= {paper['paperId']: paper for paper in papers}\n",
    "    \n"
   ]
  },
  {
   "cell_type": "code",
   "execution_count": 112,
   "id": "ead0fb71-0341-477a-b154-ece8f69e8a0f",
   "metadata": {},
   "outputs": [
    {
     "name": "stdout",
     "output_type": "stream",
     "text": [
      "Selected 7830 papers with threshold 0.1\n"
     ]
    },
    {
     "data": {
      "image/png": "[encoded data removed]",
      "text/plain": [
       "<Figure size 720x504 with 1 Axes>"
      ]
     },
     "metadata": {
      "needs_background": "light"
     },
     "output_type": "display_data"
    }
   ],
   "source": [
    "selection, fig = save_selection(final_selection, 0.1)"
   ]
  },
  {
   "cell_type": "code",
   "execution_count": 37,
   "id": "d9da307b-d0ea-4ff5-a7e5-8b917ca26eef",
   "metadata": {},
   "outputs": [
    {
     "data": {
      "image/png": "[encoded data removed]",
      "text/plain": [
       "<Figure size 432x288 with 1 Axes>"
      ]
     },
     "metadata": {
      "needs_background": "light"
     },
     "output_type": "display_data"
    }
   ],
   "source": [
    "import matplotlib.pyplot as plt\n",
    "import numpy as np\n",
    "\n",
    "x = np.linspace(-10,20,100)\n",
    "\n",
    "y = 1 / (1 + np.exp(-0.5*x + 2))\n",
    "\n",
    "fig = plt.figure()\n",
    "ax = fig.add_subplot(1, 1, 1)\n",
    "# ax.spines['left'].set_position('center')\n",
    "# ax.spines['bottom'].set_position('zero')\n",
    "# ax.spines['right'].set_color('none')\n",
    "# ax.spines['top'].set_color('none')\n",
    "ax.xaxis.set_ticks_position('bottom')\n",
    "ax.yaxis.set_ticks_position('left')\n",
    "\n",
    "# plot the function\n",
    "plt.plot(x,y, 'r')\n",
    "\n",
    "# show the plot\n",
    "plt.show()\n",
    "\n"
   ]
  },
  {
   "cell_type": "code",
   "execution_count": 63,
   "id": "149153d2-fe4b-487b-9d08-9661effe500b",
   "metadata": {},
   "outputs": [
    {
     "data": {
      "text/plain": [
       "7839"
      ]
     },
     "execution_count": 63,
     "metadata": {},
     "output_type": "execute_result"
    }
   ],
   "source": [
    "len(flat_papers)"
   ]
  },
  {
   "cell_type": "code",
   "execution_count": 39,
   "id": "29581889-e26f-4297-89d2-671188ff68e6",
   "metadata": {},
   "outputs": [
    {
     "name": "stdout",
     "output_type": "stream",
     "text": [
      "('Human Language Technology', ' Linguistic Linked Data') 169\n",
      "('Human Language Technology', ' Linked Data') 148\n",
      "('Human Language Technology', ' Ontolex') 113\n",
      "('Human Language Technology', ' Ontology') 462\n",
      "('Human Language Technology', ' Ontology Engineering') 115\n",
      "('Human Language Technology', ' RDF') 168\n",
      "('Human Language Technology', ' Semantic Web') 350\n",
      "('Human Language Technology', ' SKOS') 106\n",
      "('Information extraction', ' Linguistic Linked Data') 309\n",
      "('Information extraction', ' Linked Data') 495\n",
      "('Information extraction', ' Ontolex') 698\n",
      "('Information extraction', ' Ontology') 1333\n",
      "('Information extraction', ' Ontology Engineering') 1218\n",
      "('Information extraction', ' RDF') 747\n",
      "('Information extraction', ' Semantic Web') 769\n",
      "('Information extraction', ' SKOS') 696\n",
      "('Knowledge Extraction', ' Linguistic Linked Data') 320\n",
      "('Knowledge Extraction', ' Linked Data') 1729\n",
      "('Knowledge Extraction', ' Ontolex') 2512\n",
      "('Knowledge Extraction', ' Ontology') 1566\n",
      "('Knowledge Extraction', ' Ontology Engineering') 1021\n",
      "('Knowledge Extraction', ' RDF') 2245\n",
      "('Knowledge Extraction', ' Semantic Web') 912\n",
      "('Knowledge Extraction', ' SKOS') 2479\n",
      "('Machine Translation', ' Linguistic Linked Data') 69\n",
      "('Machine Translation', ' Linked Data') 194\n",
      "('Machine Translation', ' Ontolex') 114\n",
      "('Machine Translation', ' Ontology') 292\n",
      "('Machine Translation', ' Ontology Engineering') 212\n",
      "('Machine Translation', ' RDF') 135\n",
      "('Machine Translation', ' Semantic Web') 389\n",
      "('Machine Translation', ' SKOS') 111\n",
      "('Natural Language Engineering', ' Linguistic Linked Data') 387\n",
      "('Natural Language Engineering', ' Linked Data') 334\n",
      "('Natural Language Engineering', ' Ontolex') 203\n",
      "('Natural Language Engineering', ' Ontology') 1420\n",
      "('Natural Language Engineering', ' Ontology Engineering') 241\n",
      "('Natural Language Engineering', ' RDF') 351\n",
      "('Natural Language Engineering', ' Semantic Web') 581\n",
      "('Natural Language Engineering', ' SKOS') 201\n",
      "('Natural Language Generation', ' Linguistic Linked Data') 397\n",
      "('Natural Language Generation', ' Linked Data') 436\n",
      "('Natural Language Generation', ' Ontolex') 418\n",
      "('Natural Language Generation', ' Ontology') 1364\n",
      "('Natural Language Generation', ' Ontology Engineering') 294\n",
      "('Natural Language Generation', ' RDF') 501\n",
      "('Natural Language Generation', ' Semantic Web') 656\n",
      "('Natural Language Generation', ' SKOS') 414\n",
      "('Natural Language Learning', ' Linguistic Linked Data') 282\n",
      "('Natural Language Learning', ' Linked Data') 468\n",
      "('Natural Language Learning', ' Ontolex') 276\n",
      "('Natural Language Learning', ' Ontology') 1261\n",
      "('Natural Language Learning', ' Ontology Engineering') 463\n",
      "('Natural Language Learning', ' RDF') 377\n",
      "('Natural Language Learning', ' Semantic Web') 791\n",
      "('Natural Language Learning', ' SKOS') 279\n",
      "('Natural Language Processing', ' Linguistic Linked Data') 407\n",
      "('Natural Language Processing', ' Linked Data') 602\n",
      "('Natural Language Processing', ' Ontolex') 456\n",
      "('Natural Language Processing', ' Ontology') 1479\n",
      "('Natural Language Processing', ' Ontology Engineering') 1350\n",
      "('Natural Language Processing', ' RDF') 546\n",
      "('Natural Language Processing', ' Semantic Web') 960\n",
      "('Natural Language Processing', ' SKOS') 454\n",
      "('Natural Language Understanding', ' Linguistic Linked Data') 338\n",
      "('Natural Language Understanding', ' Linked Data') 474\n",
      "('Natural Language Understanding', ' Ontolex') 468\n",
      "('Natural Language Understanding', ' Ontology') 1295\n",
      "('Natural Language Understanding', ' Ontology Engineering') 313\n",
      "('Natural Language Understanding', ' RDF') 567\n",
      "('Natural Language Understanding', ' Semantic Web') 739\n",
      "('Natural Language Understanding', ' SKOS') 464\n",
      "('NLP', ' Linguistic Linked Data') 251\n",
      "('NLP', ' Linked Data') 363\n",
      "('NLP', ' Ontolex') 440\n",
      "('NLP', ' Ontology') 901\n",
      "('NLP', ' Ontology Engineering') 737\n",
      "('NLP', ' RDF') 333\n",
      "('NLP', ' Semantic Web') 465\n",
      "('NLP', ' SKOS') 423\n",
      "('Text generation', ' Linguistic Linked Data') 76\n",
      "('Text generation', ' Linked Data') 196\n",
      "('Text generation', ' Ontolex') 94\n",
      "('Text generation', ' Ontology') 767\n",
      "('Text generation', ' Ontology Engineering') 207\n",
      "('Text generation', ' RDF') 228\n",
      "('Text generation', ' Semantic Web') 486\n",
      "('Text generation', ' SKOS') 99\n",
      "('Text processing', ' Linguistic Linked Data') 203\n",
      "('Text processing', ' Linked Data') 277\n",
      "('Text processing', ' Ontolex') 224\n",
      "('Text processing', ' Ontology') 997\n",
      "('Text processing', ' Ontology Engineering') 895\n",
      "('Text processing', ' RDF') 293\n",
      "('Text processing', ' Semantic Web') 584\n",
      "('Text processing', ' SKOS') 226\n",
      "('Word Sense Disambiguation', ' Linguistic Linked Data') 180\n",
      "('Word Sense Disambiguation', ' Linked Data') 148\n",
      "('Word Sense Disambiguation', ' Ontolex') 422\n",
      "('Word Sense Disambiguation', ' Ontology') 472\n",
      "('Word Sense Disambiguation', ' Ontology Engineering') 180\n",
      "('Word Sense Disambiguation', ' RDF') 427\n",
      "('Word Sense Disambiguation', ' Semantic Web') 265\n",
      "('Word Sense Disambiguation', ' SKOS') 421\n"
     ]
    }
   ],
   "source": [
    "for key in indexed_papers:\n",
    "    print(key,len(indexed_papers[key]))"
   ]
  },
  {
   "cell_type": "code",
   "execution_count": 45,
   "id": "7406d42a-205e-4a69-91d9-1f4ce58a34ed",
   "metadata": {},
   "outputs": [
    {
     "data": {
      "application/vnd.jupyter.widget-view+json": {
       "model_id": "2e0085b814dc4fa7a646e6bdb127636d",
       "version_major": 2,
       "version_minor": 0
      },
      "text/plain": [
       "  0%|          | 0/104 [00:00<?, ?it/s]"
      ]
     },
     "metadata": {},
     "output_type": "display_data"
    }
   ],
   "source": []
  },
  {
   "cell_type": "code",
   "execution_count": null,
   "id": "605ae571-d937-42a3-b023-b1c48ff1d270",
   "metadata": {},
   "outputs": [],
   "source": []
  }
 ],
 "metadata": {
  "kernelspec": {
   "display_name": "Python 3",
   "language": "python",
   "name": "python3"
  },
  "language_info": {
   "codemirror_mode": {
    "name": "ipython",
    "version": 3
   },
   "file_extension": ".py",
   "mimetype": "text/x-python",
   "name": "python",
   "nbconvert_exporter": "python",
   "pygments_lexer": "ipython3",
   "version": "3.8.8"
  }
 },
 "nbformat": 4,
 "nbformat_minor": 5
}
